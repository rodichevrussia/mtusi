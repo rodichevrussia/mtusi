{
  "nbformat": 4,
  "nbformat_minor": 0,
  "metadata": {
    "colab": {
      "provenance": [],
      "authorship_tag": "ABX9TyNNoeTv6nJWRb3XT04JGZ4v",
      "include_colab_link": true
    },
    "kernelspec": {
      "name": "python3",
      "display_name": "Python 3"
    },
    "language_info": {
      "name": "python"
    }
  },
  "cells": [
    {
      "cell_type": "markdown",
      "metadata": {
        "id": "view-in-github",
        "colab_type": "text"
      },
      "source": [
        "<a href=\"https://colab.research.google.com/github/rodichevrussia/mtusi/blob/main/pipeline24.ipynb\" target=\"_parent\"><img src=\"https://colab.research.google.com/assets/colab-badge.svg\" alt=\"Open In Colab\"/></a>"
      ]
    },
    {
      "cell_type": "code",
      "execution_count": 1,
      "metadata": {
        "colab": {
          "base_uri": "https://localhost:8080/"
        },
        "id": "q9DnDaSJInpv",
        "outputId": "23d64e47-d8c6-47e7-85b6-706bb6fa2872"
      },
      "outputs": [
        {
          "output_type": "stream",
          "name": "stdout",
          "text": [
            "Create a pipeline\n"
          ]
        }
      ],
      "source": [
        "print(\"Create a pipeline\")"
      ]
    },
    {
      "cell_type": "code",
      "source": [
        "print(\"Changes\")"
      ],
      "metadata": {
        "colab": {
          "base_uri": "https://localhost:8080/"
        },
        "id": "smmmhnJDMWuC",
        "outputId": "328c7f66-056e-4a4a-d2b4-e3be858a233f"
      },
      "execution_count": 2,
      "outputs": [
        {
          "output_type": "stream",
          "name": "stdout",
          "text": [
            "Changes\n"
          ]
        }
      ]
    }
  ]
}